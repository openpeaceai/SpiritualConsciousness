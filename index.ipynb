{
 "cells": [
  {
   "cell_type": "code",
   "execution_count": 1,
   "id": "f3347290",
   "metadata": {},
   "outputs": [],
   "source": [
    "import pandas as pd\n",
    "pd.set_option('display.max_colwidth', None)\n",
    "from sqlalchemy import create_engine\n",
    "import streamlit as st\n",
    "import numpy as np \n",
    "import mysql.connector"
   ]
  },
  {
   "cell_type": "code",
   "execution_count": 2,
   "id": "310841fb",
   "metadata": {},
   "outputs": [
    {
     "name": "stderr",
     "output_type": "stream",
     "text": [
      "2023-03-28 06:05:31.018 \n",
      "  \u001b[33m\u001b[1mWarning:\u001b[0m to view this Streamlit app on a browser, run it with the following\n",
      "  command:\n",
      "\n",
      "    streamlit run /Users/hagayzamir/opt/anaconda3/lib/python3.9/site-packages/ipykernel_launcher.py [ARGUMENTS]\n"
     ]
    },
    {
     "data": {
      "text/plain": [
       "DeltaGenerator(_root_container=0, _provided_cursor=None, _parent=None, _block_type=None, _form_data=None)"
      ]
     },
     "execution_count": 2,
     "metadata": {},
     "output_type": "execute_result"
    }
   ],
   "source": [
    "# Set up custom CSS for dark mode sidebar\n",
    "dark_sidebar_style = \"\"\"\n",
    "<style>\n",
    "    .sidebar .sidebar-content {\n",
    "        background-color: black;\n",
    "        color: white;\n",
    "    }\n",
    "</style>\n",
    "\"\"\"\n",
    "st.markdown(dark_sidebar_style, unsafe_allow_html=True)"
   ]
  },
  {
   "cell_type": "code",
   "execution_count": 3,
   "id": "d890e687",
   "metadata": {},
   "outputs": [],
   "source": [
    "# Create the sidebar content\n",
    "with st.sidebar:\n",
    "    st.image(\"https://img1.wsimg.com/isteam/ip/f8df9fda-2223-42be-a383-5d7d72e7c082/Openpeace%20Logo_Layout%201A.png/:/rs=w:230,h:38,cg:true,m/cr=w:230,h:38/qt=q:100/ll\", width=230)  # Adjust the width as needed\n",
    "    st.header(\"Spiritual Consciousness Survey\")\n",
    "    st.write(\"Introducing the Spiritual Consciousness Survey, a unique and engaging \\\n",
    "                questionnaire designed to explore individual perspectives on spirituality, \\\n",
    "                personal growth, and transcendent experiences.\")\n",
    "    #option = st.selectbox(\"Choose an option\", [\"Option 1\", \"Option 2\", \"Option 3\"])\n",
    "    \n",
    "st.write(\"Please answer the following questions about your spiritual consciousness:\")"
   ]
  },
  {
   "cell_type": "code",
   "execution_count": 4,
   "id": "cb9ffc1c",
   "metadata": {},
   "outputs": [],
   "source": [
    "server = '184.168.194.64'\n",
    "database = 'op_mssql_mama'\n",
    "username = 'op_papa'\n",
    "password = 's3x9&B7t'\n",
    "\n",
    "# Create the connection string\n",
    "connection_str = f'mssql+pymssql://{username}:{password}@{server}/{database}'\n",
    "\n",
    "# Create the database engine\n",
    "engine = create_engine(connection_str)"
   ]
  },
  {
   "cell_type": "code",
   "execution_count": 5,
   "id": "2e9d2195",
   "metadata": {},
   "outputs": [],
   "source": [
    "# Fetch questions and sections from the database\n",
    "query = f\"SELECT question_id, question_text, question_section \\\n",
    "            FROM spiritual_consciousness_questions \\\n",
    "            ORDER BY question_id\"\n",
    "questions = pd.read_sql(query, engine)\n",
    "questions_tuples = list(questions.itertuples(index=False))"
   ]
  },
  {
   "cell_type": "code",
   "execution_count": 6,
   "id": "feea2073",
   "metadata": {},
   "outputs": [],
   "source": [
    "# Fetch answers from the database\n",
    "query = f\"SELECT question_id, answer_text, answer_value \\\n",
    "    FROM spiritual_consciousness_answers \\\n",
    "    ORDER BY question_id, answer_value\"\n",
    "answers = pd.read_sql(query, engine)\n",
    "answers_tuples = list(answers.itertuples(index=False))\n",
    "#print(answers_tuples)"
   ]
  },
  {
   "cell_type": "code",
   "execution_count": 7,
   "id": "76d6ae5f",
   "metadata": {},
   "outputs": [],
   "source": [
    "options_dict = {}\n",
    "\n",
    "for question_id,answer_text,answer_value in answers_tuples:\n",
    "    if question_id not in options_dict:\n",
    "        options_dict[question_id] = []\n",
    "    options_dict[question_id].append((answer_text, answer_value))"
   ]
  },
  {
   "cell_type": "code",
   "execution_count": 8,
   "id": "0c0d38ce",
   "metadata": {},
   "outputs": [],
   "source": [
    "responses = []"
   ]
  },
  {
   "cell_type": "code",
   "execution_count": 9,
   "id": "2b02dd6a",
   "metadata": {},
   "outputs": [],
   "source": [
    "current_section = None\n",
    "for question_id, question_text, question_section in questions_tuples:\n",
    "    if current_section != question_section:\n",
    "        st.title(question_section)\n",
    "        current_section = question_section\n",
    "\n",
    "    response = st.selectbox(\n",
    "        question_text,\n",
    "        options=[(text, value) for text, value in options_dict[question_id]],\n",
    "        format_func=lambda option: option[0],\n",
    "        key=question_id\n",
    "    )\n",
    "    responses.append(response[1])  # Store the answer value\n",
    "\n",
    "if st.button(\"Submit\"):\n",
    "    # Save responses\n",
    "    st.write(\"Thank you for your submission!\")\n"
   ]
  },
  {
   "cell_type": "code",
   "execution_count": null,
   "id": "08ff2c3c",
   "metadata": {},
   "outputs": [],
   "source": []
  },
  {
   "cell_type": "code",
   "execution_count": null,
   "id": "6acbb819",
   "metadata": {},
   "outputs": [],
   "source": []
  },
  {
   "cell_type": "code",
   "execution_count": null,
   "id": "b46ea4ef",
   "metadata": {},
   "outputs": [],
   "source": []
  },
  {
   "cell_type": "code",
   "execution_count": null,
   "id": "5d3038fc",
   "metadata": {},
   "outputs": [],
   "source": []
  },
  {
   "cell_type": "code",
   "execution_count": null,
   "id": "890a7df8",
   "metadata": {},
   "outputs": [],
   "source": []
  }
 ],
 "metadata": {
  "kernelspec": {
   "display_name": "Python 3 (ipykernel)",
   "language": "python",
   "name": "python3"
  },
  "language_info": {
   "codemirror_mode": {
    "name": "ipython",
    "version": 3
   },
   "file_extension": ".py",
   "mimetype": "text/x-python",
   "name": "python",
   "nbconvert_exporter": "python",
   "pygments_lexer": "ipython3",
   "version": "3.9.13"
  }
 },
 "nbformat": 4,
 "nbformat_minor": 5
}
