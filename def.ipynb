{
 "cells": [
  {
   "cell_type": "code",
   "execution_count": 1,
   "id": "9886dd93",
   "metadata": {},
   "outputs": [],
   "source": [
    "import streamlit as st"
   ]
  },
  {
   "cell_type": "code",
   "execution_count": 2,
   "id": "ad3358ee",
   "metadata": {},
   "outputs": [],
   "source": [
    "st.set_page_config(\n",
    "    page_title=\"Spiritual Consciousness Assessment\",\n",
    "    page_icon=\"☮️\",\n",
    "    layout=\"centered\",\n",
    "    initial_sidebar_state=\"expanded\",\n",
    "    menu_items={\n",
    "        'About': \"https://openpeace.ai/about-us\"\n",
    "    }\n",
    ")"
   ]
  },
  {
   "cell_type": "code",
   "execution_count": 3,
   "id": "65ea0b1c",
   "metadata": {},
   "outputs": [
    {
     "name": "stderr",
     "output_type": "stream",
     "text": [
      "2023-03-30 14:15:31.785 \n",
      "  \u001b[33m\u001b[1mWarning:\u001b[0m to view this Streamlit app on a browser, run it with the following\n",
      "  command:\n",
      "\n",
      "    streamlit run /Users/hagayzamir/opt/anaconda3/lib/python3.9/site-packages/ipykernel_launcher.py [ARGUMENTS]\n"
     ]
    },
    {
     "data": {
      "text/plain": [
       "DeltaGenerator(_root_container=0, _provided_cursor=None, _parent=None, _block_type=None, _form_data=None)"
      ]
     },
     "execution_count": 3,
     "metadata": {},
     "output_type": "execute_result"
    }
   ],
   "source": [
    "# Add css to make text bigger\n",
    "st.markdown(\n",
    "    \"\"\"\n",
    "    <style>\n",
    "    \n",
    "    label \n",
    "    {\n",
    "    font-size:115% !important;\n",
    "    color: #800000;\n",
    "    }\n",
    "    \n",
    "    div[class*=\"stSelect\"] label {\n",
    "    font-size:115% !important;\n",
    "    color: #800000;\n",
    "    }\n",
    "\n",
    "\n",
    "    div[class*=\"stTextArea\"] label {\n",
    "    font-size:115% !important;\n",
    "    color: #800000;\n",
    "    }\n",
    "\n",
    "    div[class*=\"stTextInput\"] label {\n",
    "    font-size:115% !important;\n",
    "    color: #800000;\n",
    "    }\n",
    "    \n",
    "    div[class*=\"stDateInput\"] label {\n",
    "    font-size:115% !important;\n",
    "    color: #800000;\n",
    "    }\n",
    "\n",
    "    div[class*=\"stNumberInput\"] label {\n",
    "    font-size:115% !important;\n",
    "    color: #800000;\n",
    "    }\n",
    "    \n",
    "    div[data-testid=\"column\"]:nth-of-type(1)\n",
    "    {\n",
    "        border:0px solid blue;\n",
    "        color: #c0c0c0;\n",
    "    }\n",
    "    div[data-testid=\"column\"]:nth-of-type(2)\n",
    "    {\n",
    "        border:0px solid blue;\n",
    "        color: #c0c0c0;\n",
    "        text-align: end;\n",
    "    }\n",
    "    .stTextInput > label \n",
    "    {\n",
    "    font-size:115%; font-weight:bold; color:#800000;\n",
    "    }    \n",
    "    .stMultiSelect > label \n",
    "    {\n",
    "    font-size:115%; font-weight:bold; color:#800000;\n",
    "    }\n",
    "    </style>\n",
    "    \"\"\",\n",
    "    unsafe_allow_html=True,\n",
    ")"
   ]
  },
  {
   "cell_type": "code",
   "execution_count": null,
   "id": "1436b24e",
   "metadata": {},
   "outputs": [],
   "source": []
  },
  {
   "cell_type": "code",
   "execution_count": 4,
   "id": "f3347290",
   "metadata": {},
   "outputs": [],
   "source": [
    "import pandas as pd\n",
    "pd.set_option('display.max_colwidth', None)\n",
    "from sqlalchemy import create_engine\n",
    "\n",
    "import numpy as np \n",
    "import mysql.connector\n",
    "import pycountry\n",
    "from datetime import datetime, date, timedelta"
   ]
  },
  {
   "cell_type": "code",
   "execution_count": null,
   "id": "08ff2c3c",
   "metadata": {},
   "outputs": [],
   "source": []
  },
  {
   "cell_type": "code",
   "execution_count": 15,
   "id": "6acbb819",
   "metadata": {},
   "outputs": [
    {
     "data": {
      "text/plain": [
       "DeltaGenerator(_root_container=0, _provided_cursor=None, _parent=None, _block_type=None, _form_data=None)"
      ]
     },
     "execution_count": 15,
     "metadata": {},
     "output_type": "execute_result"
    }
   ],
   "source": [
    "#with st.sidebar:\n",
    "st.image(\"https://img1.wsimg.com/isteam/ip/f8df9fda-2223-42be-a383-5d7d72e7c082/Openpeace%20Logo_Layout%201A.png/:/rs=w:230,h:38,cg:true,m/cr=w:230,h:38/qt=q:100/ll\", width=230)  # Adjust the width as needed\n",
    "st.header(\"Spiritual Consciousness Assessment\")\n",
    "st.image(\"https://img1.wsimg.com/isteam/ip/f8df9fda-2223-42be-a383-5d7d72e7c082/pexels-wouter-de-jong-750896.jpg/:/cr=t:12.42%25,l:0%25,w:100%25,h:75.16%25/rs=w:814,h:407,cg:true\")\n",
    "\n",
    "st.markdown('##### The Spiritual Consciousness Assessment is a unique and engaging \\\n",
    "            questionnaire designed to explore individual perspectives on spirituality, \\\n",
    "            personal growth, and transcendent experiences.')\n",
    "#st.markdown('##') \n",
    "st.markdown('##### Use the form below to select the answers to the questions presented and submit it to see your Spiritual \\\n",
    "            Consciousness score.')\n",
    "st.markdown('---')     \n",
    "st.markdown('##### Please enter your email address, date of birth, and country.')\n",
    "st.error('NOTE: You can only take this assessment once, and your information \\\n",
    "                will remain anonymous, as we prioritize your privacy and security.')\n",
    "#st.write(\"Please enter your email, birthday and country:\")    \n",
    "# Input fields for email, birthday and country\n",
    "email = st.text_input(\"Email:\", \"\")\n",
    "min_birthday = date.today() - timedelta(days=365*110)\n",
    "max_birthday = date.today() - timedelta(days=365*14)\n",
    "birthday = st.date_input(\"Birthday (MM/DD/YYYY):\", value=datetime(2000, 1, 1), min_value=min_birthday, max_value=max_birthday)\n",
    "countries = [\"Select Country\"] + sorted([\"United States\"] + [country.name for country in pycountry.countries if country.name != \"United States\"])\n",
    "country = st.selectbox(\"Country:\", countries)\n",
    "st.markdown('---')     \n",
    "st.markdown('##### The following section explores a range of topics, \\\n",
    "            including beliefs, practices, interconnectedness, transcendent experiences, \\\n",
    "            and personal development.', unsafe_allow_html=False)\n",
    "\n"
   ]
  },
  {
   "cell_type": "code",
   "execution_count": null,
   "id": "b46ea4ef",
   "metadata": {},
   "outputs": [],
   "source": []
  },
  {
   "cell_type": "code",
   "execution_count": 6,
   "id": "5d3038fc",
   "metadata": {},
   "outputs": [],
   "source": [
    "server = '184.168.194.64'\n",
    "database = 'op_mssql_mama'\n",
    "username = 'op_papa'\n",
    "password = 's3x9&B7t'\n",
    "\n",
    "# Create the connection string\n",
    "connection_str = f'mssql+pymssql://{username}:{password}@{server}/{database}'\n",
    "\n",
    "# Create the database engine\n",
    "engine = create_engine(connection_str)"
   ]
  },
  {
   "cell_type": "code",
   "execution_count": null,
   "id": "87176ba4",
   "metadata": {},
   "outputs": [],
   "source": []
  },
  {
   "cell_type": "code",
   "execution_count": 7,
   "id": "16cf3164",
   "metadata": {},
   "outputs": [],
   "source": [
    "# Fetch questions and sections from the database\n",
    "query = f\"SELECT question_id, question_text, question_section \\\n",
    "            FROM spiritual_consciousness_questions \\\n",
    "            ORDER BY question_id\"\n",
    "questions = pd.read_sql(query, engine)\n",
    "questions_tuples = list(questions.itertuples(index=False))\n",
    "\n",
    "# Fetch answers from the database\n",
    "query = f\"SELECT question_id, answer_text, answer_value \\\n",
    "    FROM spiritual_consciousness_answers \\\n",
    "    ORDER BY question_id, answer_value\"\n",
    "answers = pd.read_sql(query, engine)\n",
    "answers_tuples = list(answers.itertuples(index=False))"
   ]
  },
  {
   "cell_type": "code",
   "execution_count": null,
   "id": "a704b631",
   "metadata": {},
   "outputs": [],
   "source": []
  },
  {
   "cell_type": "code",
   "execution_count": 8,
   "id": "27be4bfa",
   "metadata": {},
   "outputs": [],
   "source": [
    "options_dict = {}\n",
    "\n",
    "for question_id, answer_text, answer_value in answers_tuples:\n",
    "    if question_id not in options_dict:\n",
    "        options_dict[question_id] = [(\"Select\", None)]\n",
    "    options_dict[question_id].append((answer_text, answer_value))"
   ]
  },
  {
   "cell_type": "code",
   "execution_count": null,
   "id": "0ec0c771",
   "metadata": {},
   "outputs": [],
   "source": []
  },
  {
   "cell_type": "code",
   "execution_count": 9,
   "id": "e03acac6",
   "metadata": {},
   "outputs": [],
   "source": [
    "responses = []\n",
    "\n",
    "current_section = None\n",
    "for question_id, question_text, question_section in questions_tuples:\n",
    "    if current_section != question_section:\n",
    "        st.markdown('---')\n",
    "        st.markdown(f\"##### {question_section}\", unsafe_allow_html=False)\n",
    "        current_section = question_section\n",
    "\n",
    "    response = st.selectbox(\n",
    "        question_text,\n",
    "        options=[(text, value) for text, value in options_dict[question_id]],\n",
    "        format_func=lambda option: option[0],\n",
    "        key=question_id\n",
    "        \n",
    "    )\n",
    "    responses.append(response[1])  # Store the answer value\n",
    "    "
   ]
  },
  {
   "cell_type": "code",
   "execution_count": null,
   "id": "1fc88fe1",
   "metadata": {},
   "outputs": [],
   "source": []
  },
  {
   "cell_type": "code",
   "execution_count": 10,
   "id": "74f46e23",
   "metadata": {},
   "outputs": [],
   "source": [
    "# Active user flag\n",
    "#active = st.checkbox(\"Active user\", value=True)\n",
    "\n",
    "survey_id = 1  # You can change this to the ID of the desired survey"
   ]
  },
  {
   "cell_type": "code",
   "execution_count": null,
   "id": "7a8a059b",
   "metadata": {},
   "outputs": [],
   "source": []
  },
  {
   "cell_type": "code",
   "execution_count": 11,
   "id": "335146d5",
   "metadata": {},
   "outputs": [],
   "source": [
    "st.markdown('##')\n",
    "\n",
    "if st.button(\"Submit\"):\n",
    "      \n",
    "    if all(response is not None for response in responses):\n",
    "        if email and birthday and country:\n",
    "            # Check if the user exists\n",
    "            query = f\"SELECT * FROM op_survey_users WHERE email = '{email}'\"\n",
    "            existing_user = pd.read_sql(query, engine)\n",
    "\n",
    "            if existing_user.empty:\n",
    "                # Save user information\n",
    "                query = f\"INSERT INTO op_survey_users (email, birthday, country) VALUES ('{email}', '{birthday}', '{country}')\"\n",
    "                engine.execute(query)\n",
    "\n",
    "                # Get the user_id\n",
    "                query = f\"SELECT id FROM op_survey_users WHERE email = '{email}'\"\n",
    "                user_id = pd.read_sql(query, engine).iloc[0]['id']\n",
    "            else:\n",
    "                user_id = existing_user.iloc[0]['id']\n",
    "\n",
    "            # Check if the user has already submitted this survey\n",
    "            query = f\"SELECT * FROM spiritual_consciousness_survey_responses WHERE user_id = {user_id} AND survey_id = {survey_id}\"\n",
    "            existing_response = pd.read_sql(query, engine)\n",
    "\n",
    "            if existing_response.empty:\n",
    "                \n",
    "                with st.spinner(\"Please wait while we check your submission...\"): \n",
    "                    \n",
    "                    \n",
    "                    # Check if all questions have been answered\n",
    "                    if all(response is not None for response in responses):\n",
    "                        # Calculate the total sum of the answer values\n",
    "                        #total_sum_of_answers = sum([answer_value for _, _, answer_value in answers_tuples])\n",
    "\n",
    "                        # Calculate the total value of the user's submission\n",
    "                        total_value_of_user_submission = sum(responses)\n",
    "\n",
    "                        # Calculate the total percentage of the user's answer submission\n",
    "                        total_percentage_of_user_submission = (total_value_of_user_submission / 150) * 100      \n",
    "        \n",
    "                \n",
    "                # Save responses\n",
    "                for question_id, response in enumerate(responses, start=1):\n",
    "                    query = f\"INSERT INTO spiritual_consciousness_survey_responses (user_id, survey_id, question_id, response) VALUES ({user_id}, {survey_id}, {question_id}, {response})\"\n",
    "                    engine.execute(query)\n",
    "                    \n",
    "                # Insert the total_percentage_of_user_submission into the spiritual_consciousness_user_survey_score table\n",
    "                query = f\"INSERT INTO spiritual_consciousness_user_survey_score (user_id, survey_id, score) VALUES ({user_id}, {survey_id}, {total_percentage_of_user_submission})\"\n",
    "                engine.execute(query)\n",
    "\n",
    "                st.success(\"Thank you for your submission!\")\n",
    "                st.info(f\"Your spiritual consciousness scpre is: {total_percentage_of_user_submission:.2f}%\")\n",
    "                st.balloons()\n",
    "                \n",
    "            else:\n",
    "                st.warning(\"You have already submitted this survey. You cannot submit it more than once.\")\n",
    "        else:\n",
    "            st.error(\"Please provide all required information.\")     \n",
    "    else:\n",
    "        st.error(\"Please answer all questions before submitting the survey.\")"
   ]
  },
  {
   "cell_type": "code",
   "execution_count": 12,
   "id": "cbfbe153",
   "metadata": {},
   "outputs": [
    {
     "data": {
      "text/plain": [
       "DeltaGenerator(_root_container=0, _provided_cursor=None, _parent=None, _block_type=None, _form_data=None)"
      ]
     },
     "execution_count": 12,
     "metadata": {},
     "output_type": "execute_result"
    }
   ],
   "source": [
    "st.markdown('##')\n",
    "st.markdown('---')"
   ]
  },
  {
   "cell_type": "code",
   "execution_count": 13,
   "id": "ce209bf5",
   "metadata": {},
   "outputs": [],
   "source": [
    "col1, col2 = st.columns(2)\n",
    "with col1:\n",
    "   st.markdown(' :grey[2023 - openpeace.ai, all rights reserved.]', unsafe_allow_html=False)\n",
    "\n",
    "with col2:\n",
    "   st.markdown(' :grey[v - 0.1]', unsafe_allow_html=False)"
   ]
  },
  {
   "cell_type": "code",
   "execution_count": 14,
   "id": "22e3015c",
   "metadata": {},
   "outputs": [
    {
     "data": {
      "text/plain": [
       "DeltaGenerator(_root_container=0, _provided_cursor=None, _parent=None, _block_type=None, _form_data=None)"
      ]
     },
     "execution_count": 14,
     "metadata": {},
     "output_type": "execute_result"
    }
   ],
   "source": [
    "st.markdown(\"<style> .stTextInput > label {font-size:105%; font-weight:bold; color:blue;} </style>\",unsafe_allow_html=True) #for all text-input label sections\n",
    "\n",
    "st.markdown(\"<style> .stSelect > label {font-size:105%; font-weight:bold; color:blue;} </style>\",unsafe_allow_html=True) #for all multi-select label sections"
   ]
  },
  {
   "cell_type": "code",
   "execution_count": null,
   "id": "c607e2b2",
   "metadata": {},
   "outputs": [],
   "source": []
  },
  {
   "cell_type": "code",
   "execution_count": null,
   "id": "890a7df8",
   "metadata": {},
   "outputs": [],
   "source": []
  }
 ],
 "metadata": {
  "kernelspec": {
   "display_name": "Python 3 (ipykernel)",
   "language": "python",
   "name": "python3"
  },
  "language_info": {
   "codemirror_mode": {
    "name": "ipython",
    "version": 3
   },
   "file_extension": ".py",
   "mimetype": "text/x-python",
   "name": "python",
   "nbconvert_exporter": "python",
   "pygments_lexer": "ipython3",
   "version": "3.9.13"
  }
 },
 "nbformat": 4,
 "nbformat_minor": 5
}
